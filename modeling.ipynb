{
 "cells": [
  {
   "cell_type": "code",
   "execution_count": 5,
   "metadata": {},
   "outputs": [],
   "source": [
    "import pandas as pd\n",
    "import numpy as np\n",
    "import sklearn\n",
    "\n",
    "from sklearn.model_selection import train_test_split\n",
    "from sklearn.preprocessing import MinMaxScaler\n",
    "from sklearn.preprocessing import StandardScaler\n",
    "from sklearn.preprocessing import scale\n",
    "\n",
    "from sklearn.linear_model import LinearRegression\n",
    "from sklearn.linear_model import SGDRegressor"
   ]
  },
  {
   "cell_type": "code",
   "execution_count": 6,
   "metadata": {},
   "outputs": [],
   "source": [
    "import warnings\n",
    "warnings.filterwarnings(\"ignore\")"
   ]
  },
  {
   "cell_type": "code",
   "execution_count": 7,
   "metadata": {},
   "outputs": [],
   "source": [
    "df_yout = pd.read_csv(\"./data/clean_file.csv\")"
   ]
  },
  {
   "cell_type": "markdown",
   "metadata": {
    "id": "JOv4_dDTaEwk"
   },
   "source": [
    "# **Predictive analysis of number of views for YouTube’s trending videos**"
   ]
  },
  {
   "cell_type": "code",
   "execution_count": 8,
   "metadata": {
    "colab": {
     "base_uri": "https://localhost:8080/"
    },
    "id": "83ktpfPcaEwk",
    "outputId": "5592095c-db1b-4ad5-99a4-a13ade14b499"
   },
   "outputs": [
    {
     "data": {
      "text/plain": [
       "Index(['Unnamed: 0', 'Unnamed: 0.1', 'video_id', 'title', 'publishedAt',\n",
       "       'channelId', 'channelTitle', 'categoryId', 'trending_date',\n",
       "       'view_count', 'likes', 'comment_count', 'comments_disabled',\n",
       "       'description', 'age', 'rating_disabled', 'likes_log', 'views_log',\n",
       "       'comment_log', 'publishing_hour', 'category_name'],\n",
       "      dtype='object')"
      ]
     },
     "execution_count": 8,
     "metadata": {},
     "output_type": "execute_result"
    }
   ],
   "source": [
    "df_yout.columns"
   ]
  },
  {
   "cell_type": "code",
   "execution_count": 9,
   "metadata": {
    "id": "f8Tol0VqaEwl"
   },
   "outputs": [],
   "source": [
    "x_col = ['comment_count', 'likes', 'rating_disabled', 'age', 'publishing_hour']\n",
    "y_col = ['view_count']"
   ]
  },
  {
   "cell_type": "markdown",
   "metadata": {
    "id": "49S0OlFDaEwl"
   },
   "source": [
    "## **Metrics for evaluating regression model**"
   ]
  },
  {
   "cell_type": "code",
   "execution_count": 10,
   "metadata": {
    "id": "FQPBy5qwaEwl"
   },
   "outputs": [],
   "source": [
    "from sklearn.metrics import mean_absolute_error,r2_score,mean_squared_error\n",
    "import numpy as np\n",
    "\n",
    "def run_experiment(model, X_train, y_train, X_test, y_test):\n",
    "    model.fit(X_train, y_train)\n",
    "    y_pred = model.predict(X_test)\n",
    "    print(\"Evaluation of model {}:\".format(model))\n",
    "    print(\"R^2 : \", r2_score(y_test, y_pred))\n",
    "    print(\"MAE :\", mean_absolute_error(y_test,y_pred))\n",
    "    print(\"RMSE:\",np.sqrt(mean_squared_error(y_test, y_pred)))\n",
    "    print(\"\\n\")"
   ]
  },
  {
   "cell_type": "markdown",
   "metadata": {
    "id": "lwJ1-QZ7aEwl"
   },
   "source": [
    "## **Normalizing data**"
   ]
  },
  {
   "cell_type": "code",
   "execution_count": 11,
   "metadata": {
    "id": "KTC6fLfBaEwl"
   },
   "outputs": [],
   "source": [
    "# train-test 70-30 split\n",
    "df_train, df_test = train_test_split(df_yout, \n",
    "                                     train_size = 0.7, \n",
    "                                     test_size = 0.3, \n",
    "                                     random_state = 100)"
   ]
  },
  {
   "cell_type": "code",
   "execution_count": 12,
   "metadata": {
    "id": "etkjp5LyaEwl"
   },
   "outputs": [],
   "source": [
    "numeric_vars = ['age', 'comment_count', 'likes', 'view_count']"
   ]
  },
  {
   "cell_type": "code",
   "execution_count": 13,
   "metadata": {
    "id": "MIUFgr6TaEwm"
   },
   "outputs": [],
   "source": [
    "def min_max_scaler(df_train, df_test, numeric_vars):\n",
    "    \n",
    "    # rescale the features for Linear Regression\n",
    "    scaler = MinMaxScaler()\n",
    "\n",
    "    # apply scaler() to all the numeric columns \n",
    "    df_train[numeric_vars] = scaler.fit_transform(df_train[numeric_vars])\n",
    "    df_test[numeric_vars] = scaler.fit_transform(df_test[numeric_vars])\n",
    "\n",
    "    return df_train, df_test"
   ]
  },
  {
   "cell_type": "code",
   "execution_count": 14,
   "metadata": {
    "id": "6n3GUZu6aEwm"
   },
   "outputs": [],
   "source": [
    "def standard_scaler(df_train, df_test, numeric_vars):\n",
    "\n",
    "    # rescale the features for Linear Regression\n",
    "    scaler = StandardScaler()\n",
    "\n",
    "    # apply scaler() to all the numeric columns \n",
    "    df_train[numeric_vars] = scaler.fit_transform(df_train[numeric_vars])\n",
    "    df_test[numeric_vars] = scaler.fit_transform(df_test[numeric_vars])\n",
    "    \n",
    "    return df_train, df_test"
   ]
  },
  {
   "cell_type": "code",
   "execution_count": 15,
   "metadata": {
    "id": "bay3wX2QaEwm"
   },
   "outputs": [],
   "source": [
    "df_train_min_max, df_test_min_max = min_max_scaler(df_train, df_test, numeric_vars)\n",
    "df_train_standard, df_test_standard = standard_scaler(df_train, df_test, numeric_vars)"
   ]
  },
  {
   "cell_type": "markdown",
   "metadata": {
    "id": "vnnJ1D4oaEwm"
   },
   "source": [
    "## **Train-Test-Split**"
   ]
  },
  {
   "cell_type": "code",
   "execution_count": 16,
   "metadata": {
    "id": "SbSjaps0aEwm"
   },
   "outputs": [],
   "source": [
    "def split_dataset(df_train, df_test, x_col, y_col):\n",
    "\n",
    "    X_train = np.array(df_train[x_col]).reshape(-1, len(x_col))\n",
    "    y_train = np.array(df_train[y_col]).reshape(-1, 1)\n",
    "\n",
    "    X_test = np.array(df_test[x_col]).reshape(-1, len(x_col))\n",
    "    y_test = np.array(df_test[y_col]).reshape(-1, 1)\n",
    "\n",
    "    print((X_train.shape, y_train.shape), (X_test.shape, y_test.shape))\n",
    "    return (X_train, y_train), (X_test, y_test)"
   ]
  },
  {
   "cell_type": "code",
   "execution_count": 17,
   "metadata": {
    "colab": {
     "base_uri": "https://localhost:8080/"
    },
    "id": "ISZnQVweaEwn",
    "outputId": "32647fef-a14c-4a91-85b8-23947f9b0563"
   },
   "outputs": [
    {
     "name": "stdout",
     "output_type": "stream",
     "text": [
      "((3056, 5), (3056, 1)) ((1310, 5), (1310, 1))\n",
      "((3056, 5), (3056, 1)) ((1310, 5), (1310, 1))\n"
     ]
    }
   ],
   "source": [
    "(X_train_min_max, y_train_min_max), (X_test_min_max, y_test_min_max) = split_dataset(df_train_min_max, df_test_min_max, x_col, y_col)\n",
    "(X_train_standard, y_train_standard), (X_test_standard, y_test_standard) = split_dataset(df_train_standard, df_test_standard, x_col, y_col)"
   ]
  },
  {
   "attachments": {},
   "cell_type": "markdown",
   "metadata": {},
   "source": [
    "## **Running Experiment**"
   ]
  },
  {
   "cell_type": "code",
   "execution_count": 29,
   "metadata": {
    "colab": {
     "base_uri": "https://localhost:8080/"
    },
    "id": "0ig5hQ5xaEwn",
    "outputId": "1bd50a73-e948-4d12-d9ed-d2ac3d71421a"
   },
   "outputs": [
    {
     "name": "stdout",
     "output_type": "stream",
     "text": [
      "Evaluation of model LinearRegression():\n",
      "R^2 :  0.8475076071557255\n",
      "MAE : 0.19328418720224189\n",
      "RMSE: 0.3905027437090226\n",
      "\n",
      "\n",
      "Evaluation of model SGDRegressor():\n",
      "R^2 :  0.8255901363047129\n",
      "MAE : 0.1875049050035365\n",
      "RMSE: 0.417624069822714\n",
      "\n",
      "\n"
     ]
    }
   ],
   "source": [
    "run_experiment(LinearRegression(), X_train_min_max, y_train_min_max, X_test_min_max, y_test_min_max)\n",
    "run_experiment(SGDRegressor(), X_train_standard, y_train_standard, X_test_standard, y_test_standard)"
   ]
  },
  {
   "cell_type": "code",
   "execution_count": null,
   "metadata": {},
   "outputs": [],
   "source": []
  }
 ],
 "metadata": {
  "kernelspec": {
   "display_name": "base",
   "language": "python",
   "name": "python3"
  },
  "language_info": {
   "codemirror_mode": {
    "name": "ipython",
    "version": 3
   },
   "file_extension": ".py",
   "mimetype": "text/x-python",
   "name": "python",
   "nbconvert_exporter": "python",
   "pygments_lexer": "ipython3",
   "version": "3.9.13"
  },
  "orig_nbformat": 4,
  "vscode": {
   "interpreter": {
    "hash": "62b8ce1e837aade5dd6c8758403d006a508fd0e6d15414ef25ac79fb5a7ddfc3"
   }
  }
 },
 "nbformat": 4,
 "nbformat_minor": 2
}
